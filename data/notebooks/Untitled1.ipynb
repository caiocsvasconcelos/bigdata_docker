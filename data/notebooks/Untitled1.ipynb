{
 "cells": [
  {
   "cell_type": "code",
   "execution_count": 40,
   "metadata": {},
   "outputs": [],
   "source": [
    "df_filial = spark.sql(\"select * from aula_hive.tb_filial\")"
   ]
  },
  {
   "cell_type": "code",
   "execution_count": 3,
   "metadata": {},
   "outputs": [],
   "source": [
    "from pyspark.sql import SparkSession, dataframe\n",
    "from pyspark.sql.types import StructType, StructField\n",
    "from pyspark.sql.types import DoubleType, IntegerType, StringType\n",
    "from pyspark.sql import HiveContext\n",
    "from pyspark.sql.functions import *\n",
    "from pyspark.sql import functions as f\n",
    "import os\n",
    "import re\n",
    "\n",
    "spark = SparkSession.builder.master(\"local[*]\")\\\n",
    "    .enableHiveSupport()\\\n",
    "    .getOrCreate()"
   ]
  },
  {
   "cell_type": "code",
   "execution_count": 5,
   "metadata": {},
   "outputs": [],
   "source": [
    "df_categoria = spark.sql(\"select * from aula_hive.tb_categoria\")\n",
    "df_pedido = spark.sql(\"select * from aula_hive.tb_pedido\")\n",
    "df_item_pedido = spark.sql(\"select * from aula_hive.tb_item_pedido\")\n",
    "df_cliente = spark.sql(\"select * from aula_hive.tb_cliente\")\n",
    "df_produto = spark.sql(\"select * from aula_hive.tb_produto\")\n",
    "df_cidade = spark.sql(\"select * from aula_hive.tb_cidade\")\n",
    "df_estado = spark.sql(\"select * from aula_hive.tb_estado\")\n",
    "df_filial = spark.sql(\"select * from aula_hive.tb_filial\")\n",
    "df_parceiro = spark.sql(\"select * from aula_hive.tb_parceiro\")\n",
    "df_subcategoria = spark.sql(\"select * from aula_hive.tb_subcategoria\")"
   ]
  },
  {
   "cell_type": "code",
   "execution_count": 6,
   "metadata": {},
   "outputs": [
    {
     "data": {
      "text/plain": [
       "1738"
      ]
     },
     "execution_count": 6,
     "metadata": {},
     "output_type": "execute_result"
    }
   ],
   "source": [
    "df_filial.count()"
   ]
  },
  {
   "cell_type": "code",
   "execution_count": 7,
   "metadata": {},
   "outputs": [],
   "source": [
    "df_pedido.createOrReplaceTempView('vw_pedido')\n",
    "df_item_pedido.createOrReplaceTempView('vw_item_pedido')\n",
    "df_categoria.createOrReplaceTempView('vw_categoria')\n",
    "df_cliente.createOrReplaceTempView('vw_cliente')\n",
    "df_produto.createOrReplaceTempView('vw_produto')\n",
    "df_cidade.createOrReplaceTempView('vw_cidade')\n",
    "df_estado.createOrReplaceTempView('vw_estado')\n",
    "df_filial.createOrReplaceTempView('vw_filial')\n",
    "df_parceiro.createOrReplaceTempView('vw_parceiro')\n",
    "df_subcategoria.createOrReplaceTempView('vw_subcategoria')"
   ]
  },
  {
   "cell_type": "code",
   "execution_count": 8,
   "metadata": {},
   "outputs": [
    {
     "name": "stdout",
     "output_type": "stream",
     "text": [
      "root\n",
      " |-- id_filial: string (nullable = true)\n",
      " |-- ds_filial: string (nullable = true)\n",
      " |-- id_cidade: string (nullable = true)\n",
      " |-- dt_foto: string (nullable = true)\n",
      "\n"
     ]
    }
   ],
   "source": [
    "df_filial.printSchema()"
   ]
  },
  {
   "cell_type": "code",
   "execution_count": 9,
   "metadata": {},
   "outputs": [
    {
     "name": "stdout",
     "output_type": "stream",
     "text": [
      "root\n",
      " |-- id_pedido: string (nullable = true)\n",
      " |-- dt_pedido: string (nullable = true)\n",
      " |-- id_parceiro: string (nullable = true)\n",
      " |-- id_cliente: string (nullable = true)\n",
      " |-- id_filial: string (nullable = true)\n",
      " |-- vr_total_pago: string (nullable = true)\n",
      " |-- dt_foto: string (nullable = true)\n",
      "\n"
     ]
    }
   ],
   "source": [
    "df_pedido.printSchema()"
   ]
  },
  {
   "cell_type": "code",
   "execution_count": 10,
   "metadata": {},
   "outputs": [
    {
     "name": "stdout",
     "output_type": "stream",
     "text": [
      "+------------+---------------+-------------+-------+\n",
      "|id_categoria|   ds_categoria|perc_parceiro|dt_foto|\n",
      "+------------+---------------+-------------+-------+\n",
      "|           1|Categoria - 001|          2.0| 202306|\n",
      "|           2|Categoria - 002|          2.0| 202306|\n",
      "|           3|Categoria - 003|          2.0| 202306|\n",
      "|           4|Categoria - 004|          2.0| 202306|\n",
      "|           5|Categoria - 005|          5.0| 202306|\n",
      "|           6|Categoria - 006|          1.0| 202306|\n",
      "|           7|Categoria - 007|          5.0| 202306|\n",
      "|           8|Categoria - 008|          3.0| 202306|\n",
      "|           9|Categoria - 009|          5.0| 202306|\n",
      "|          10|Categoria - 010|          6.0| 202306|\n",
      "+------------+---------------+-------------+-------+\n",
      "only showing top 10 rows\n",
      "\n"
     ]
    }
   ],
   "source": [
    "sql = ''' \n",
    "SELECT *\n",
    "  FROM vw_categoria \n",
    "'''\n",
    "df_stage = spark.sql(sql).show(10)"
   ]
  },
  {
   "cell_type": "code",
   "execution_count": 11,
   "metadata": {},
   "outputs": [],
   "source": [
    "query = ''' \n",
    "SELECT p.id_pedido\n",
    "        ,p.dt_pedido\n",
    "        ,p.id_parceiro\n",
    "        ,p.id_cliente\n",
    "        ,p.id_filial\n",
    "        ,p.vr_total_pago\n",
    "        ,it.id_produto\n",
    "        ,it.quantidade\n",
    "        ,it.vr_unitario\n",
    "        ,pr.ds_produto\n",
    "        ,pr.id_subcategoria\n",
    "        ,f.ds_filial\n",
    "        ,f.id_cidade\n",
    "        ,c.ds_cidade\n",
    "        ,c.id_estado\n",
    "        ,e.ds_estado\n",
    "        ,par.nm_parceiro\n",
    "        ,cli.nm_cliente\n",
    "        ,cli.flag_ouro\n",
    "        ,s.ds_subcategoria\n",
    "        ,s.id_categoria\n",
    "        ,cat.ds_categoria\n",
    "        ,cat.perc_parceiro\n",
    "  FROM vw_pedido p \n",
    "  JOIN vw_item_pedido it \n",
    "    ON it.id_pedido = p.id_pedido\n",
    "  JOIN vw_produto pr \n",
    "    ON pr.id_produto = it.id_produto\n",
    "  JOIN vw_filial f \n",
    "    ON f.id_filial = p.id_filial\n",
    "  JOIN vw_cidade c\n",
    "    ON c.id_cidade = f.id_cidade\n",
    "  JOIN vw_estado e\n",
    "    ON e.id_estado = c.id_estado\n",
    "  JOIN vw_parceiro par\n",
    "    ON par.id_parceiro = p.id_parceiro\n",
    "  JOIN vw_cliente cli\n",
    "    ON cli.id_cliente = p.id_cliente\n",
    "  JOIN vw_subcategoria s\n",
    "    ON s.id_subcategoria = pr.id_subcategoria\n",
    "  JOIN vw_categoria cat\n",
    "    ON cat.id_categoria = s.id_categoria\n",
    "  \n",
    "'''\n",
    "\n"
   ]
  },
  {
   "cell_type": "code",
   "execution_count": 15,
   "metadata": {},
   "outputs": [],
   "source": [
    "df_stage = spark.sql(query)"
   ]
  },
  {
   "cell_type": "code",
   "execution_count": 16,
   "metadata": {},
   "outputs": [],
   "source": [
    "df_stage = (df_stage\n",
    "            .withColumn('Ano', year(df_stage.dt_pedido))\n",
    "            .withColumn('Mês', month(df_stage.dt_pedido))\n",
    "            .withColumn('Dia', dayofmonth(df_stage.dt_pedido))\n",
    "            .withColumn('Trimestre', quarter(df_stage.dt_pedido))\n",
    "           )"
   ]
  },
  {
   "cell_type": "code",
   "execution_count": 58,
   "metadata": {},
   "outputs": [
    {
     "ename": "AttributeError",
     "evalue": "'NoneType' object has no attribute 'withColumn'",
     "output_type": "error",
     "traceback": [
      "\u001b[0;31m---------------------------------------------------------------------------\u001b[0m",
      "\u001b[0;31mAttributeError\u001b[0m                            Traceback (most recent call last)",
      "\u001b[0;32m<ipython-input-58-546dab54d0d4>\u001b[0m in \u001b[0;36m<module>\u001b[0;34m()\u001b[0m\n\u001b[0;32m----> 1\u001b[0;31m \u001b[0mdf_stage\u001b[0m\u001b[0;34m.\u001b[0m\u001b[0mwithColumn\u001b[0m\u001b[0;34m(\u001b[0m\u001b[0;34m'Ano'\u001b[0m\u001b[0;34m,\u001b[0m\u001b[0myear\u001b[0m\u001b[0;34m(\u001b[0m\u001b[0mdf_stage\u001b[0m\u001b[0;34m.\u001b[0m\u001b[0mdt_pedido\u001b[0m\u001b[0;34m)\u001b[0m\u001b[0;34m)\u001b[0m\u001b[0;34m\u001b[0m\u001b[0;34m\u001b[0m\u001b[0m\n\u001b[0m",
      "\u001b[0;31mAttributeError\u001b[0m: 'NoneType' object has no attribute 'withColumn'"
     ]
    }
   ],
   "source": [
    "df_stage.withColumn('Ano',year(df_stage.dt_pedido))"
   ]
  },
  {
   "cell_type": "code",
   "execution_count": 17,
   "metadata": {},
   "outputs": [
    {
     "name": "stdout",
     "output_type": "stream",
     "text": [
      "+----------+------------------------+-----------+----------+---------+-------------+----------+----------+-----------+--------------------+---------------+---------------+---------+---------------+---------+---------+--------------------+---------------------------+---------+---------------------+------------+---------------+-------------+----+---+---+---------+\n",
      "|id_pedido |dt_pedido               |id_parceiro|id_cliente|id_filial|vr_total_pago|id_produto|quantidade|vr_unitario|ds_produto          |id_subcategoria|ds_filial      |id_cidade|ds_cidade      |id_estado|ds_estado|nm_parceiro         |nm_cliente                 |flag_ouro|ds_subcategoria      |id_categoria|ds_categoria   |perc_parceiro|Ano |Mês|Dia|Trimestre|\n",
      "+----------+------------------------+-----------+----------+---------+-------------+----------+----------+-----------+--------------------+---------------+---------------+---------+---------------+---------+---------+--------------------+---------------------------+---------+---------------------+------------+---------------+-------------+----+---+---+---------+\n",
      "|5089715655|2021-09-02T00:00:00.000Z|5          |110562997 |3        |363.87       |3800112   |1         |363.87     |Produto - 0003800112|938            |Filial - 000003|1        |(BARCARENA)    |18       |PA       |Parceiro Magalu - 05|Cliente Magalu - 0110562997|1        |Sub-categoria - 00938|7           |Categoria - 007|5.0          |2021|9  |2  |3        |\n",
      "|5046164525|2021-08-23T00:00:00.000Z|5          |78258330  |1655     |350.87       |3800112   |1         |350.87     |Produto - 0003800112|938            |Filial - 001655|20       |ABREU E LIMA   |20       |PE       |Parceiro Magalu - 05|Cliente Magalu - 0078258330|0        |Sub-categoria - 00938|7           |Categoria - 007|5.0          |2021|8  |23 |3        |\n",
      "|5058792805|2021-08-26T00:00:00.000Z|5          |45304560  |276      |363.87       |3800112   |1         |363.87     |Produto - 0003800112|938            |Filial - 000276|20       |ABREU E LIMA   |20       |PE       |Parceiro Magalu - 05|Cliente Magalu - 0045304560|0        |Sub-categoria - 00938|7           |Categoria - 007|5.0          |2021|8  |26 |3        |\n",
      "|4880639775|2021-07-19T00:00:00.000Z|5          |51807120  |3        |324.87       |3800112   |1         |324.87     |Produto - 0003800112|938            |Filial - 000003|1        |(BARCARENA)    |18       |PA       |Parceiro Magalu - 05|Cliente Magalu - 0051807120|0        |Sub-categoria - 00938|7           |Categoria - 007|5.0          |2021|7  |19 |3        |\n",
      "|4979127425|2021-08-09T00:00:00.000Z|5          |58041945  |231      |350.87       |3800112   |1         |350.87     |Produto - 0003800112|938            |Filial - 000231|2        |(LEOPOLDINA)   |14       |MG       |Parceiro Magalu - 05|Cliente Magalu - 0058041945|1        |Sub-categoria - 00938|7           |Categoria - 007|5.0          |2021|8  |9  |3        |\n",
      "|4979361905|2021-08-10T00:00:00.000Z|5          |58041945  |231      |350.87       |3800112   |1         |350.87     |Produto - 0003800112|938            |Filial - 000231|2        |(LEOPOLDINA)   |14       |MG       |Parceiro Magalu - 05|Cliente Magalu - 0058041945|1        |Sub-categoria - 00938|7           |Categoria - 007|5.0          |2021|8  |10 |3        |\n",
      "|4673384876|2021-06-04T00:00:00.000Z|6          |120001060 |276      |5228.73      |7854      |3         |1742.91    |Produto - 0000007854|3134           |Filial - 000276|20       |ABREU E LIMA   |20       |PE       |Parceiro Magalu - 06|Cliente Magalu - 0120001060|0        |Sub-categoria - 03134|7           |Categoria - 007|5.0          |2021|6  |4  |2        |\n",
      "|4845008726|2021-07-12T00:00:00.000Z|6          |135402575 |165      |287.17       |961180    |1         |287.17     |Produto - 0000961180|1771           |Filial - 000165|43       |ADOLFO         |33       |SP       |Parceiro Magalu - 06|Cliente Magalu - 0135402575|0        |Sub-categoria - 01771|7           |Categoria - 007|5.0          |2021|7  |12 |3        |\n",
      "|4992372956|2021-08-12T00:00:00.000Z|6          |129502582 |883      |309.27       |961180    |1         |309.27     |Produto - 0000961180|1771           |Filial - 000883|1        |(BARCARENA)    |18       |PA       |Parceiro Magalu - 06|Cliente Magalu - 0129502582|0        |Sub-categoria - 01771|7           |Categoria - 007|5.0          |2021|8  |12 |3        |\n",
      "|4687572201|2021-06-07T00:00:00.000Z|1          |64992747  |4        |339.89       |4549656   |1         |339.89     |Produto - 0004549656|1363           |Filial - 000004|6        |ABAETE         |14       |MG       |Parceiro Magalu - 01|Cliente Magalu - 0064992747|1        |Sub-categoria - 01363|7           |Categoria - 007|5.0          |2021|6  |7  |2        |\n",
      "|4687902751|2021-06-07T00:00:00.000Z|1          |64992747  |4        |339.89       |4549656   |1         |339.89     |Produto - 0004549656|1363           |Filial - 000004|6        |ABAETE         |14       |MG       |Parceiro Magalu - 01|Cliente Magalu - 0064992747|1        |Sub-categoria - 01363|7           |Categoria - 007|5.0          |2021|6  |7  |2        |\n",
      "|4920767675|2021-07-28T00:00:00.000Z|5          |143320740 |257      |831.87       |3383757   |1         |831.87     |Produto - 0003383757|1363           |Filial - 000257|3        |ABADIA DE GOIAS|11       |GO       |Parceiro Magalu - 05|Cliente Magalu - 0143320740|0        |Sub-categoria - 01363|7           |Categoria - 007|5.0          |2021|7  |28 |3        |\n",
      "|4929041275|2021-07-29T00:00:00.000Z|5          |110485152 |231      |831.87       |3383757   |1         |831.87     |Produto - 0003383757|1363           |Filial - 000231|2        |(LEOPOLDINA)   |14       |MG       |Parceiro Magalu - 05|Cliente Magalu - 0110485152|0        |Sub-categoria - 01363|7           |Categoria - 007|5.0          |2021|7  |29 |3        |\n",
      "|4879526105|2021-07-19T00:00:00.000Z|5          |5996727   |257      |6199.83      |600062    |3         |2066.61    |Produto - 0000600062|1183           |Filial - 000257|3        |ABADIA DE GOIAS|11       |GO       |Parceiro Magalu - 05|Cliente Magalu - 0005996727|1        |Sub-categoria - 01183|7           |Categoria - 007|5.0          |2021|7  |19 |3        |\n",
      "|4824127426|2021-07-07T00:00:00.000Z|6          |113283465 |414      |406.77       |1134980   |1         |406.77     |Produto - 0001134980|1985           |Filial - 000414|59       |AGUA BRANCA    |3        |AL       |Parceiro Magalu - 06|Cliente Magalu - 0113283465|0        |Sub-categoria - 01985|7           |Categoria - 007|5.0          |2021|7  |7  |3        |\n",
      "|5117878856|2021-09-09T00:00:00.000Z|6          |129025752 |3        |406.77       |1134980   |1         |406.77     |Produto - 0001134980|1985           |Filial - 000003|1        |(BARCARENA)    |18       |PA       |Parceiro Magalu - 06|Cliente Magalu - 0129025752|1        |Sub-categoria - 01985|7           |Categoria - 007|5.0          |2021|9  |9  |3        |\n",
      "|4690572621|2021-06-08T00:00:00.000Z|1          |63682235  |231      |1055.34      |2150931   |3         |351.78     |Produto - 0002150931|417            |Filial - 000231|2        |(LEOPOLDINA)   |14       |MG       |Parceiro Magalu - 01|Cliente Magalu - 0063682235|1        |Sub-categoria - 00417|7           |Categoria - 007|5.0          |2021|6  |8  |2        |\n",
      "|4805462751|2021-07-03T00:00:00.000Z|1          |119911277 |257      |141.83       |4980668   |1         |141.83     |Produto - 0004980668|417            |Filial - 000257|3        |ABADIA DE GOIAS|11       |GO       |Parceiro Magalu - 01|Cliente Magalu - 0119911277|0        |Sub-categoria - 00417|7           |Categoria - 007|5.0          |2021|7  |3  |3        |\n",
      "|5075415603|2021-08-30T00:00:00.000Z|3          |131815960 |4        |18.07        |1343500   |1         |18.07      |Produto - 0001343500|417            |Filial - 000004|6        |ABAETE         |14       |MG       |Parceiro Magalu - 03|Cliente Magalu - 0131815960|0        |Sub-categoria - 00417|7           |Categoria - 007|5.0          |2021|8  |30 |3        |\n",
      "|4783326071|2021-06-29T00:00:00.000Z|1          |59518342  |3        |188.1        |432663    |1         |80.4       |Produto - 0000432663|417            |Filial - 000003|1        |(BARCARENA)    |18       |PA       |Parceiro Magalu - 01|Cliente Magalu - 0059518342|1        |Sub-categoria - 00417|7           |Categoria - 007|5.0          |2021|6  |29 |2        |\n",
      "+----------+------------------------+-----------+----------+---------+-------------+----------+----------+-----------+--------------------+---------------+---------------+---------+---------------+---------+---------+--------------------+---------------------------+---------+---------------------+------------+---------------+-------------+----+---+---+---------+\n",
      "only showing top 20 rows\n",
      "\n"
     ]
    }
   ],
   "source": [
    "df_stage = (df_stage\n",
    "            .withColumn('Ano', year(df_stage.dt_pedido))\n",
    "            .withColumn('Mês', month(df_stage.dt_pedido))\n",
    "            .withColumn('Dia', dayofmonth(df_stage.dt_pedido))\n",
    "            .withColumn('Trimestre', quarter(df_stage.dt_pedido))\n",
    "           )\n",
    "\n",
    "df_stage.show(truncate=False)"
   ]
  },
  {
   "cell_type": "code",
   "execution_count": 18,
   "metadata": {},
   "outputs": [
    {
     "name": "stdout",
     "output_type": "stream",
     "text": [
      "+----------+--------------------+-----------+----------+---------+-------------+----------+----------+-----------+--------------------+---------------+---------------+---------+---------------+---------+---------+--------------------+--------------------+---------+--------------------+------------+---------------+-------------+----+---+---+---------+\n",
      "| id_pedido|           dt_pedido|id_parceiro|id_cliente|id_filial|vr_total_pago|id_produto|quantidade|vr_unitario|          ds_produto|id_subcategoria|      ds_filial|id_cidade|      ds_cidade|id_estado|ds_estado|         nm_parceiro|          nm_cliente|flag_ouro|     ds_subcategoria|id_categoria|   ds_categoria|perc_parceiro| Ano|Mês|Dia|Trimestre|\n",
      "+----------+--------------------+-----------+----------+---------+-------------+----------+----------+-----------+--------------------+---------------+---------------+---------+---------------+---------+---------+--------------------+--------------------+---------+--------------------+------------+---------------+-------------+----+---+---+---------+\n",
      "|5089715655|2021-09-02T00:00:...|          5| 110562997|        3|       363.87|   3800112|         1|     363.87|Produto - 0003800112|            938|Filial - 000003|        1|    (BARCARENA)|       18|       PA|Parceiro Magalu - 05|Cliente Magalu - ...|        1|Sub-categoria - 0...|           7|Categoria - 007|          5.0|2021|  9|  2|        3|\n",
      "|5046164525|2021-08-23T00:00:...|          5|  78258330|     1655|       350.87|   3800112|         1|     350.87|Produto - 0003800112|            938|Filial - 001655|       20|   ABREU E LIMA|       20|       PE|Parceiro Magalu - 05|Cliente Magalu - ...|        0|Sub-categoria - 0...|           7|Categoria - 007|          5.0|2021|  8| 23|        3|\n",
      "|5058792805|2021-08-26T00:00:...|          5|  45304560|      276|       363.87|   3800112|         1|     363.87|Produto - 0003800112|            938|Filial - 000276|       20|   ABREU E LIMA|       20|       PE|Parceiro Magalu - 05|Cliente Magalu - ...|        0|Sub-categoria - 0...|           7|Categoria - 007|          5.0|2021|  8| 26|        3|\n",
      "|4880639775|2021-07-19T00:00:...|          5|  51807120|        3|       324.87|   3800112|         1|     324.87|Produto - 0003800112|            938|Filial - 000003|        1|    (BARCARENA)|       18|       PA|Parceiro Magalu - 05|Cliente Magalu - ...|        0|Sub-categoria - 0...|           7|Categoria - 007|          5.0|2021|  7| 19|        3|\n",
      "|4979127425|2021-08-09T00:00:...|          5|  58041945|      231|       350.87|   3800112|         1|     350.87|Produto - 0003800112|            938|Filial - 000231|        2|   (LEOPOLDINA)|       14|       MG|Parceiro Magalu - 05|Cliente Magalu - ...|        1|Sub-categoria - 0...|           7|Categoria - 007|          5.0|2021|  8|  9|        3|\n",
      "|4979361905|2021-08-10T00:00:...|          5|  58041945|      231|       350.87|   3800112|         1|     350.87|Produto - 0003800112|            938|Filial - 000231|        2|   (LEOPOLDINA)|       14|       MG|Parceiro Magalu - 05|Cliente Magalu - ...|        1|Sub-categoria - 0...|           7|Categoria - 007|          5.0|2021|  8| 10|        3|\n",
      "|4673384876|2021-06-04T00:00:...|          6| 120001060|      276|      5228.73|      7854|         3|    1742.91|Produto - 0000007854|           3134|Filial - 000276|       20|   ABREU E LIMA|       20|       PE|Parceiro Magalu - 06|Cliente Magalu - ...|        0|Sub-categoria - 0...|           7|Categoria - 007|          5.0|2021|  6|  4|        2|\n",
      "|4845008726|2021-07-12T00:00:...|          6| 135402575|      165|       287.17|    961180|         1|     287.17|Produto - 0000961180|           1771|Filial - 000165|       43|         ADOLFO|       33|       SP|Parceiro Magalu - 06|Cliente Magalu - ...|        0|Sub-categoria - 0...|           7|Categoria - 007|          5.0|2021|  7| 12|        3|\n",
      "|4992372956|2021-08-12T00:00:...|          6| 129502582|      883|       309.27|    961180|         1|     309.27|Produto - 0000961180|           1771|Filial - 000883|        1|    (BARCARENA)|       18|       PA|Parceiro Magalu - 06|Cliente Magalu - ...|        0|Sub-categoria - 0...|           7|Categoria - 007|          5.0|2021|  8| 12|        3|\n",
      "|4687572201|2021-06-07T00:00:...|          1|  64992747|        4|       339.89|   4549656|         1|     339.89|Produto - 0004549656|           1363|Filial - 000004|        6|         ABAETE|       14|       MG|Parceiro Magalu - 01|Cliente Magalu - ...|        1|Sub-categoria - 0...|           7|Categoria - 007|          5.0|2021|  6|  7|        2|\n",
      "|4687902751|2021-06-07T00:00:...|          1|  64992747|        4|       339.89|   4549656|         1|     339.89|Produto - 0004549656|           1363|Filial - 000004|        6|         ABAETE|       14|       MG|Parceiro Magalu - 01|Cliente Magalu - ...|        1|Sub-categoria - 0...|           7|Categoria - 007|          5.0|2021|  6|  7|        2|\n",
      "|4920767675|2021-07-28T00:00:...|          5| 143320740|      257|       831.87|   3383757|         1|     831.87|Produto - 0003383757|           1363|Filial - 000257|        3|ABADIA DE GOIAS|       11|       GO|Parceiro Magalu - 05|Cliente Magalu - ...|        0|Sub-categoria - 0...|           7|Categoria - 007|          5.0|2021|  7| 28|        3|\n",
      "|4929041275|2021-07-29T00:00:...|          5| 110485152|      231|       831.87|   3383757|         1|     831.87|Produto - 0003383757|           1363|Filial - 000231|        2|   (LEOPOLDINA)|       14|       MG|Parceiro Magalu - 05|Cliente Magalu - ...|        0|Sub-categoria - 0...|           7|Categoria - 007|          5.0|2021|  7| 29|        3|\n",
      "|4879526105|2021-07-19T00:00:...|          5|   5996727|      257|      6199.83|    600062|         3|    2066.61|Produto - 0000600062|           1183|Filial - 000257|        3|ABADIA DE GOIAS|       11|       GO|Parceiro Magalu - 05|Cliente Magalu - ...|        1|Sub-categoria - 0...|           7|Categoria - 007|          5.0|2021|  7| 19|        3|\n",
      "|4824127426|2021-07-07T00:00:...|          6| 113283465|      414|       406.77|   1134980|         1|     406.77|Produto - 0001134980|           1985|Filial - 000414|       59|    AGUA BRANCA|        3|       AL|Parceiro Magalu - 06|Cliente Magalu - ...|        0|Sub-categoria - 0...|           7|Categoria - 007|          5.0|2021|  7|  7|        3|\n",
      "|5117878856|2021-09-09T00:00:...|          6| 129025752|        3|       406.77|   1134980|         1|     406.77|Produto - 0001134980|           1985|Filial - 000003|        1|    (BARCARENA)|       18|       PA|Parceiro Magalu - 06|Cliente Magalu - ...|        1|Sub-categoria - 0...|           7|Categoria - 007|          5.0|2021|  9|  9|        3|\n",
      "|4690572621|2021-06-08T00:00:...|          1|  63682235|      231|      1055.34|   2150931|         3|     351.78|Produto - 0002150931|            417|Filial - 000231|        2|   (LEOPOLDINA)|       14|       MG|Parceiro Magalu - 01|Cliente Magalu - ...|        1|Sub-categoria - 0...|           7|Categoria - 007|          5.0|2021|  6|  8|        2|\n",
      "|4805462751|2021-07-03T00:00:...|          1| 119911277|      257|       141.83|   4980668|         1|     141.83|Produto - 0004980668|            417|Filial - 000257|        3|ABADIA DE GOIAS|       11|       GO|Parceiro Magalu - 01|Cliente Magalu - ...|        0|Sub-categoria - 0...|           7|Categoria - 007|          5.0|2021|  7|  3|        3|\n",
      "|5075415603|2021-08-30T00:00:...|          3| 131815960|        4|        18.07|   1343500|         1|      18.07|Produto - 0001343500|            417|Filial - 000004|        6|         ABAETE|       14|       MG|Parceiro Magalu - 03|Cliente Magalu - ...|        0|Sub-categoria - 0...|           7|Categoria - 007|          5.0|2021|  8| 30|        3|\n",
      "|4783326071|2021-06-29T00:00:...|          1|  59518342|        3|        188.1|    432663|         1|       80.4|Produto - 0000432663|            417|Filial - 000003|        1|    (BARCARENA)|       18|       PA|Parceiro Magalu - 01|Cliente Magalu - ...|        1|Sub-categoria - 0...|           7|Categoria - 007|          5.0|2021|  6| 29|        2|\n",
      "+----------+--------------------+-----------+----------+---------+-------------+----------+----------+-----------+--------------------+---------------+---------------+---------+---------------+---------+---------+--------------------+--------------------+---------+--------------------+------------+---------------+-------------+----+---+---+---------+\n",
      "only showing top 20 rows\n",
      "\n"
     ]
    }
   ],
   "source": [
    "df_stage.show()"
   ]
  },
  {
   "cell_type": "code",
   "execution_count": null,
   "metadata": {},
   "outputs": [],
   "source": []
  }
 ],
 "metadata": {
  "kernelspec": {
   "display_name": "PySpark",
   "language": "python",
   "name": "pyspark"
  },
  "language_info": {
   "codemirror_mode": {
    "name": "ipython",
    "version": 3
   },
   "file_extension": ".py",
   "mimetype": "text/x-python",
   "name": "python",
   "nbconvert_exporter": "python",
   "pygments_lexer": "ipython3",
   "version": "3.6.10"
  }
 },
 "nbformat": 4,
 "nbformat_minor": 2
}
